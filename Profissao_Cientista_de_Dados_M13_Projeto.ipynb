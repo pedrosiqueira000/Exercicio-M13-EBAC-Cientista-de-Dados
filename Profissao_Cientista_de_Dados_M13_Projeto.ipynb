{
  "nbformat": 4,
  "nbformat_minor": 0,
  "metadata": {
    "colab": {
      "provenance": []
    },
    "kernelspec": {
      "name": "python3",
      "display_name": "Python 3"
    },
    "language_info": {
      "name": "python"
    }
  },
  "cells": [
    {
      "cell_type": "markdown",
      "source": [
        "# **MÓDULO 13**\n",
        "# Projeto - Fundamentos da Descoberta de Dados"
      ],
      "metadata": {
        "id": "VOTu7U3Mvxzq"
      }
    },
    {
      "cell_type": "markdown",
      "source": [
        "Nesse projeto trabalharemos com a base de dados de produtos de um supermercado do Chile.\n",
        "A ideia é que vocês apliquem os conceitos estatísticos vistos no último módulo, mais os conceitos de visualizações de dados através de gráficos e finalizem publicando no seu github!"
      ],
      "metadata": {
        "id": "-HYgkdAywLd0"
      }
    },
    {
      "cell_type": "code",
      "source": [
        "import pandas as pd\n",
        "import matplotlib.pyplot as plt\n",
        "import plotly.express as px"
      ],
      "metadata": {
        "id": "cBIEixGJWQCK"
      },
      "execution_count": 3,
      "outputs": []
    },
    {
      "cell_type": "markdown",
      "source": [
        "Faça a leitura dos dados do arquivo CSV:\n",
        "\n",
        "\n",
        "Altere o código abaixo de acordo com seu diretório."
      ],
      "metadata": {
        "id": "ky1Dk_KWywEa"
      }
    },
    {
      "cell_type": "code",
      "source": [
        "from google.colab import drive\n",
        "drive.mount('/content/drive')\n",
        "\n",
        "caminho_dados = \"/content/drive/MyDrive/Colab Notebooks/MODULO7_PROJETOFINAL_BASE_SUPERMERCADO - MODULO7_PROJETOFINAL_BASE_SUPERMERCADO (1).csv\""
      ],
      "metadata": {
        "colab": {
          "base_uri": "https://localhost:8080/"
        },
        "id": "AxlOLtUFWb8L",
        "outputId": "5f4ae486-2899-47f4-97da-f77e67749cac"
      },
      "execution_count": 4,
      "outputs": [
        {
          "output_type": "stream",
          "name": "stdout",
          "text": [
            "Drive already mounted at /content/drive; to attempt to forcibly remount, call drive.mount(\"/content/drive\", force_remount=True).\n"
          ]
        }
      ]
    },
    {
      "cell_type": "code",
      "source": [
        "df = pd.read_csv(caminho_dados)\n",
        "\n",
        "df.head(10)"
      ],
      "metadata": {
        "colab": {
          "base_uri": "https://localhost:8080/",
          "height": 363
        },
        "id": "bRBFyVB5wlny",
        "outputId": "55bd0a98-b8c6-4618-a9ab-00dbb1798784"
      },
      "execution_count": 5,
      "outputs": [
        {
          "output_type": "execute_result",
          "data": {
            "text/plain": [
              "                                              title       Marca  Preco_Normal  \\\n",
              "0              Pack 12 un, Leche extra proteína 1 L  Loncoleche         19788   \n",
              "1   Pack 12 un, Leche chocolate receta original 1 L     Soprole         18228   \n",
              "2    Pack 12 un, Leche semidescremada chocolate 1 L     Soprole         18228   \n",
              "3     Pack 12 un, Leche semidescremada frutilla 1 L     Soprole         18228   \n",
              "4       Pack 12 un, Leche sin lactosa chocolate 1 L  Loncoleche         17988   \n",
              "5        Pack 12 un, Leche sin lactosa frutilla 1 L  Loncoleche         17988   \n",
              "6  Pack 12 un, Leche saborizada light chocolate 1 L  Loncoleche         17988   \n",
              "7         Pack 12 un, Leche saborizada frutilla 1 L       Colun         17388   \n",
              "8         Pack 12 un, Leche saborizada vainilla 1 L       Colun         17388   \n",
              "9           Pack 12 un, Leche saborizada manjar 1 L       Colun         17388   \n",
              "\n",
              "   Preco_Desconto  Preco_Anterior  Desconto Categoria  \n",
              "0               0               0         0   lacteos  \n",
              "1               0               0         0   lacteos  \n",
              "2               0               0         0   lacteos  \n",
              "3               0               0         0   lacteos  \n",
              "4               0               0         0   lacteos  \n",
              "5               0               0         0   lacteos  \n",
              "6               0               0         0   lacteos  \n",
              "7               0               0         0   lacteos  \n",
              "8               0               0         0   lacteos  \n",
              "9               0               0         0   lacteos  "
            ],
            "text/html": [
              "\n",
              "  <div id=\"df-ef3f19de-b076-4092-8e85-00ed1c33969b\" class=\"colab-df-container\">\n",
              "    <div>\n",
              "<style scoped>\n",
              "    .dataframe tbody tr th:only-of-type {\n",
              "        vertical-align: middle;\n",
              "    }\n",
              "\n",
              "    .dataframe tbody tr th {\n",
              "        vertical-align: top;\n",
              "    }\n",
              "\n",
              "    .dataframe thead th {\n",
              "        text-align: right;\n",
              "    }\n",
              "</style>\n",
              "<table border=\"1\" class=\"dataframe\">\n",
              "  <thead>\n",
              "    <tr style=\"text-align: right;\">\n",
              "      <th></th>\n",
              "      <th>title</th>\n",
              "      <th>Marca</th>\n",
              "      <th>Preco_Normal</th>\n",
              "      <th>Preco_Desconto</th>\n",
              "      <th>Preco_Anterior</th>\n",
              "      <th>Desconto</th>\n",
              "      <th>Categoria</th>\n",
              "    </tr>\n",
              "  </thead>\n",
              "  <tbody>\n",
              "    <tr>\n",
              "      <th>0</th>\n",
              "      <td>Pack 12 un, Leche extra proteína 1 L</td>\n",
              "      <td>Loncoleche</td>\n",
              "      <td>19788</td>\n",
              "      <td>0</td>\n",
              "      <td>0</td>\n",
              "      <td>0</td>\n",
              "      <td>lacteos</td>\n",
              "    </tr>\n",
              "    <tr>\n",
              "      <th>1</th>\n",
              "      <td>Pack 12 un, Leche chocolate receta original 1 L</td>\n",
              "      <td>Soprole</td>\n",
              "      <td>18228</td>\n",
              "      <td>0</td>\n",
              "      <td>0</td>\n",
              "      <td>0</td>\n",
              "      <td>lacteos</td>\n",
              "    </tr>\n",
              "    <tr>\n",
              "      <th>2</th>\n",
              "      <td>Pack 12 un, Leche semidescremada chocolate 1 L</td>\n",
              "      <td>Soprole</td>\n",
              "      <td>18228</td>\n",
              "      <td>0</td>\n",
              "      <td>0</td>\n",
              "      <td>0</td>\n",
              "      <td>lacteos</td>\n",
              "    </tr>\n",
              "    <tr>\n",
              "      <th>3</th>\n",
              "      <td>Pack 12 un, Leche semidescremada frutilla 1 L</td>\n",
              "      <td>Soprole</td>\n",
              "      <td>18228</td>\n",
              "      <td>0</td>\n",
              "      <td>0</td>\n",
              "      <td>0</td>\n",
              "      <td>lacteos</td>\n",
              "    </tr>\n",
              "    <tr>\n",
              "      <th>4</th>\n",
              "      <td>Pack 12 un, Leche sin lactosa chocolate 1 L</td>\n",
              "      <td>Loncoleche</td>\n",
              "      <td>17988</td>\n",
              "      <td>0</td>\n",
              "      <td>0</td>\n",
              "      <td>0</td>\n",
              "      <td>lacteos</td>\n",
              "    </tr>\n",
              "    <tr>\n",
              "      <th>5</th>\n",
              "      <td>Pack 12 un, Leche sin lactosa frutilla 1 L</td>\n",
              "      <td>Loncoleche</td>\n",
              "      <td>17988</td>\n",
              "      <td>0</td>\n",
              "      <td>0</td>\n",
              "      <td>0</td>\n",
              "      <td>lacteos</td>\n",
              "    </tr>\n",
              "    <tr>\n",
              "      <th>6</th>\n",
              "      <td>Pack 12 un, Leche saborizada light chocolate 1 L</td>\n",
              "      <td>Loncoleche</td>\n",
              "      <td>17988</td>\n",
              "      <td>0</td>\n",
              "      <td>0</td>\n",
              "      <td>0</td>\n",
              "      <td>lacteos</td>\n",
              "    </tr>\n",
              "    <tr>\n",
              "      <th>7</th>\n",
              "      <td>Pack 12 un, Leche saborizada frutilla 1 L</td>\n",
              "      <td>Colun</td>\n",
              "      <td>17388</td>\n",
              "      <td>0</td>\n",
              "      <td>0</td>\n",
              "      <td>0</td>\n",
              "      <td>lacteos</td>\n",
              "    </tr>\n",
              "    <tr>\n",
              "      <th>8</th>\n",
              "      <td>Pack 12 un, Leche saborizada vainilla 1 L</td>\n",
              "      <td>Colun</td>\n",
              "      <td>17388</td>\n",
              "      <td>0</td>\n",
              "      <td>0</td>\n",
              "      <td>0</td>\n",
              "      <td>lacteos</td>\n",
              "    </tr>\n",
              "    <tr>\n",
              "      <th>9</th>\n",
              "      <td>Pack 12 un, Leche saborizada manjar 1 L</td>\n",
              "      <td>Colun</td>\n",
              "      <td>17388</td>\n",
              "      <td>0</td>\n",
              "      <td>0</td>\n",
              "      <td>0</td>\n",
              "      <td>lacteos</td>\n",
              "    </tr>\n",
              "  </tbody>\n",
              "</table>\n",
              "</div>\n",
              "    <div class=\"colab-df-buttons\">\n",
              "\n",
              "  <div class=\"colab-df-container\">\n",
              "    <button class=\"colab-df-convert\" onclick=\"convertToInteractive('df-ef3f19de-b076-4092-8e85-00ed1c33969b')\"\n",
              "            title=\"Convert this dataframe to an interactive table.\"\n",
              "            style=\"display:none;\">\n",
              "\n",
              "  <svg xmlns=\"http://www.w3.org/2000/svg\" height=\"24px\" viewBox=\"0 -960 960 960\">\n",
              "    <path d=\"M120-120v-720h720v720H120Zm60-500h600v-160H180v160Zm220 220h160v-160H400v160Zm0 220h160v-160H400v160ZM180-400h160v-160H180v160Zm440 0h160v-160H620v160ZM180-180h160v-160H180v160Zm440 0h160v-160H620v160Z\"/>\n",
              "  </svg>\n",
              "    </button>\n",
              "\n",
              "  <style>\n",
              "    .colab-df-container {\n",
              "      display:flex;\n",
              "      gap: 12px;\n",
              "    }\n",
              "\n",
              "    .colab-df-convert {\n",
              "      background-color: #E8F0FE;\n",
              "      border: none;\n",
              "      border-radius: 50%;\n",
              "      cursor: pointer;\n",
              "      display: none;\n",
              "      fill: #1967D2;\n",
              "      height: 32px;\n",
              "      padding: 0 0 0 0;\n",
              "      width: 32px;\n",
              "    }\n",
              "\n",
              "    .colab-df-convert:hover {\n",
              "      background-color: #E2EBFA;\n",
              "      box-shadow: 0px 1px 2px rgba(60, 64, 67, 0.3), 0px 1px 3px 1px rgba(60, 64, 67, 0.15);\n",
              "      fill: #174EA6;\n",
              "    }\n",
              "\n",
              "    .colab-df-buttons div {\n",
              "      margin-bottom: 4px;\n",
              "    }\n",
              "\n",
              "    [theme=dark] .colab-df-convert {\n",
              "      background-color: #3B4455;\n",
              "      fill: #D2E3FC;\n",
              "    }\n",
              "\n",
              "    [theme=dark] .colab-df-convert:hover {\n",
              "      background-color: #434B5C;\n",
              "      box-shadow: 0px 1px 3px 1px rgba(0, 0, 0, 0.15);\n",
              "      filter: drop-shadow(0px 1px 2px rgba(0, 0, 0, 0.3));\n",
              "      fill: #FFFFFF;\n",
              "    }\n",
              "  </style>\n",
              "\n",
              "    <script>\n",
              "      const buttonEl =\n",
              "        document.querySelector('#df-ef3f19de-b076-4092-8e85-00ed1c33969b button.colab-df-convert');\n",
              "      buttonEl.style.display =\n",
              "        google.colab.kernel.accessAllowed ? 'block' : 'none';\n",
              "\n",
              "      async function convertToInteractive(key) {\n",
              "        const element = document.querySelector('#df-ef3f19de-b076-4092-8e85-00ed1c33969b');\n",
              "        const dataTable =\n",
              "          await google.colab.kernel.invokeFunction('convertToInteractive',\n",
              "                                                    [key], {});\n",
              "        if (!dataTable) return;\n",
              "\n",
              "        const docLinkHtml = 'Like what you see? Visit the ' +\n",
              "          '<a target=\"_blank\" href=https://colab.research.google.com/notebooks/data_table.ipynb>data table notebook</a>'\n",
              "          + ' to learn more about interactive tables.';\n",
              "        element.innerHTML = '';\n",
              "        dataTable['output_type'] = 'display_data';\n",
              "        await google.colab.output.renderOutput(dataTable, element);\n",
              "        const docLink = document.createElement('div');\n",
              "        docLink.innerHTML = docLinkHtml;\n",
              "        element.appendChild(docLink);\n",
              "      }\n",
              "    </script>\n",
              "  </div>\n",
              "\n",
              "\n",
              "    <div id=\"df-e1821658-cc4a-46c7-a720-88a67ef298ad\">\n",
              "      <button class=\"colab-df-quickchart\" onclick=\"quickchart('df-e1821658-cc4a-46c7-a720-88a67ef298ad')\"\n",
              "                title=\"Suggest charts\"\n",
              "                style=\"display:none;\">\n",
              "\n",
              "<svg xmlns=\"http://www.w3.org/2000/svg\" height=\"24px\"viewBox=\"0 0 24 24\"\n",
              "     width=\"24px\">\n",
              "    <g>\n",
              "        <path d=\"M19 3H5c-1.1 0-2 .9-2 2v14c0 1.1.9 2 2 2h14c1.1 0 2-.9 2-2V5c0-1.1-.9-2-2-2zM9 17H7v-7h2v7zm4 0h-2V7h2v10zm4 0h-2v-4h2v4z\"/>\n",
              "    </g>\n",
              "</svg>\n",
              "      </button>\n",
              "\n",
              "<style>\n",
              "  .colab-df-quickchart {\n",
              "      --bg-color: #E8F0FE;\n",
              "      --fill-color: #1967D2;\n",
              "      --hover-bg-color: #E2EBFA;\n",
              "      --hover-fill-color: #174EA6;\n",
              "      --disabled-fill-color: #AAA;\n",
              "      --disabled-bg-color: #DDD;\n",
              "  }\n",
              "\n",
              "  [theme=dark] .colab-df-quickchart {\n",
              "      --bg-color: #3B4455;\n",
              "      --fill-color: #D2E3FC;\n",
              "      --hover-bg-color: #434B5C;\n",
              "      --hover-fill-color: #FFFFFF;\n",
              "      --disabled-bg-color: #3B4455;\n",
              "      --disabled-fill-color: #666;\n",
              "  }\n",
              "\n",
              "  .colab-df-quickchart {\n",
              "    background-color: var(--bg-color);\n",
              "    border: none;\n",
              "    border-radius: 50%;\n",
              "    cursor: pointer;\n",
              "    display: none;\n",
              "    fill: var(--fill-color);\n",
              "    height: 32px;\n",
              "    padding: 0;\n",
              "    width: 32px;\n",
              "  }\n",
              "\n",
              "  .colab-df-quickchart:hover {\n",
              "    background-color: var(--hover-bg-color);\n",
              "    box-shadow: 0 1px 2px rgba(60, 64, 67, 0.3), 0 1px 3px 1px rgba(60, 64, 67, 0.15);\n",
              "    fill: var(--button-hover-fill-color);\n",
              "  }\n",
              "\n",
              "  .colab-df-quickchart-complete:disabled,\n",
              "  .colab-df-quickchart-complete:disabled:hover {\n",
              "    background-color: var(--disabled-bg-color);\n",
              "    fill: var(--disabled-fill-color);\n",
              "    box-shadow: none;\n",
              "  }\n",
              "\n",
              "  .colab-df-spinner {\n",
              "    border: 2px solid var(--fill-color);\n",
              "    border-color: transparent;\n",
              "    border-bottom-color: var(--fill-color);\n",
              "    animation:\n",
              "      spin 1s steps(1) infinite;\n",
              "  }\n",
              "\n",
              "  @keyframes spin {\n",
              "    0% {\n",
              "      border-color: transparent;\n",
              "      border-bottom-color: var(--fill-color);\n",
              "      border-left-color: var(--fill-color);\n",
              "    }\n",
              "    20% {\n",
              "      border-color: transparent;\n",
              "      border-left-color: var(--fill-color);\n",
              "      border-top-color: var(--fill-color);\n",
              "    }\n",
              "    30% {\n",
              "      border-color: transparent;\n",
              "      border-left-color: var(--fill-color);\n",
              "      border-top-color: var(--fill-color);\n",
              "      border-right-color: var(--fill-color);\n",
              "    }\n",
              "    40% {\n",
              "      border-color: transparent;\n",
              "      border-right-color: var(--fill-color);\n",
              "      border-top-color: var(--fill-color);\n",
              "    }\n",
              "    60% {\n",
              "      border-color: transparent;\n",
              "      border-right-color: var(--fill-color);\n",
              "    }\n",
              "    80% {\n",
              "      border-color: transparent;\n",
              "      border-right-color: var(--fill-color);\n",
              "      border-bottom-color: var(--fill-color);\n",
              "    }\n",
              "    90% {\n",
              "      border-color: transparent;\n",
              "      border-bottom-color: var(--fill-color);\n",
              "    }\n",
              "  }\n",
              "</style>\n",
              "\n",
              "      <script>\n",
              "        async function quickchart(key) {\n",
              "          const quickchartButtonEl =\n",
              "            document.querySelector('#' + key + ' button');\n",
              "          quickchartButtonEl.disabled = true;  // To prevent multiple clicks.\n",
              "          quickchartButtonEl.classList.add('colab-df-spinner');\n",
              "          try {\n",
              "            const charts = await google.colab.kernel.invokeFunction(\n",
              "                'suggestCharts', [key], {});\n",
              "          } catch (error) {\n",
              "            console.error('Error during call to suggestCharts:', error);\n",
              "          }\n",
              "          quickchartButtonEl.classList.remove('colab-df-spinner');\n",
              "          quickchartButtonEl.classList.add('colab-df-quickchart-complete');\n",
              "        }\n",
              "        (() => {\n",
              "          let quickchartButtonEl =\n",
              "            document.querySelector('#df-e1821658-cc4a-46c7-a720-88a67ef298ad button');\n",
              "          quickchartButtonEl.style.display =\n",
              "            google.colab.kernel.accessAllowed ? 'block' : 'none';\n",
              "        })();\n",
              "      </script>\n",
              "    </div>\n",
              "\n",
              "    </div>\n",
              "  </div>\n"
            ],
            "application/vnd.google.colaboratory.intrinsic+json": {
              "type": "dataframe",
              "variable_name": "df",
              "summary": "{\n  \"name\": \"df\",\n  \"rows\": 1107,\n  \"fields\": [\n    {\n      \"column\": \"title\",\n      \"properties\": {\n        \"dtype\": \"string\",\n        \"num_unique_values\": 1065,\n        \"samples\": [\n          \"Pack 12 un, Leche entera 1 L\",\n          \"Yoghurt batido Colun damasco 1 kg\",\n          \"Leche Loncoleche cappucino prote\\u00edna 1 L\"\n        ],\n        \"semantic_type\": \"\",\n        \"description\": \"\"\n      }\n    },\n    {\n      \"column\": \"Marca\",\n      \"properties\": {\n        \"dtype\": \"category\",\n        \"num_unique_values\": 156,\n        \"samples\": [\n          \"Calan\",\n          \"Chiquit\\u00edn\",\n          \"Protex\"\n        ],\n        \"semantic_type\": \"\",\n        \"description\": \"\"\n      }\n    },\n    {\n      \"column\": \"Preco_Normal\",\n      \"properties\": {\n        \"dtype\": \"number\",\n        \"std\": 2961,\n        \"min\": 0,\n        \"max\": 19788,\n        \"num_unique_values\": 361,\n        \"samples\": [\n          2499,\n          6790,\n          10599\n        ],\n        \"semantic_type\": \"\",\n        \"description\": \"\"\n      }\n    },\n    {\n      \"column\": \"Preco_Desconto\",\n      \"properties\": {\n        \"dtype\": \"number\",\n        \"std\": 1339,\n        \"min\": 0,\n        \"max\": 14550,\n        \"num_unique_values\": 101,\n        \"samples\": [\n          3732,\n          4790,\n          1250\n        ],\n        \"semantic_type\": \"\",\n        \"description\": \"\"\n      }\n    },\n    {\n      \"column\": \"Preco_Anterior\",\n      \"properties\": {\n        \"dtype\": \"number\",\n        \"std\": 1239,\n        \"min\": 0,\n        \"max\": 18899,\n        \"num_unique_values\": 64,\n        \"samples\": [\n          5549,\n          5499,\n          0\n        ],\n        \"semantic_type\": \"\",\n        \"description\": \"\"\n      }\n    },\n    {\n      \"column\": \"Desconto\",\n      \"properties\": {\n        \"dtype\": \"number\",\n        \"std\": 241,\n        \"min\": 0,\n        \"max\": 4349,\n        \"num_unique_values\": 68,\n        \"samples\": [\n          693,\n          359,\n          140\n        ],\n        \"semantic_type\": \"\",\n        \"description\": \"\"\n      }\n    },\n    {\n      \"column\": \"Categoria\",\n      \"properties\": {\n        \"dtype\": \"category\",\n        \"num_unique_values\": 7,\n        \"samples\": [\n          \"lacteos\",\n          \"belleza-y-cuidado-personal\",\n          \"verduras\"\n        ],\n        \"semantic_type\": \"\",\n        \"description\": \"\"\n      }\n    }\n  ]\n}"
            }
          },
          "metadata": {},
          "execution_count": 5
        }
      ]
    },
    {
      "cell_type": "markdown",
      "source": [
        "Os campos do nosso dataframe são:\n",
        "\n",
        "**Title:** Nome do produto.\n",
        "\n",
        "\n",
        "**Marca:** A marca do produto.\n",
        "\n",
        "\n",
        "**Preco_Normal:** O preço em que o produto costuma ser vendido quando não há desconto.\n",
        "\n",
        "\n",
        "**Preco_Desconto:** O preço vendido após o desconto ser aplicado.\n",
        "\n",
        "\n",
        "**Preco_Anterior:** Preço em que era comercializado o produto antes do desconto aplicado.\n",
        "\n",
        "\n",
        "**Desconto:** Total de desconto aplicado.\n",
        "\n",
        "\n",
        "\n",
        "\n",
        "\n",
        "\n",
        "As colunas que aparecem com valores 0 são para os produtos onde não tivemos descontos aplicados.\n",
        "\n",
        "\n",
        "As categorias estão em espanhol!"
      ],
      "metadata": {
        "id": "YJgKJ7Nxwtw2"
      }
    },
    {
      "cell_type": "markdown",
      "source": [
        "# 1 - Traga a média e a mediana dos preços - coluna Preco_Normal - por categoria de produto.\n",
        "# Identifique as categorias que parecem ter um valor de média abaixo ou acima da mediana."
      ],
      "metadata": {
        "id": "4u6WBeyyy6ri"
      }
    },
    {
      "cell_type": "code",
      "metadata": {
        "colab": {
          "base_uri": "https://localhost:8080/",
          "height": 69
        },
        "collapsed": true,
        "id": "c4ebaf9d",
        "outputId": "0c617939-27ab-4a28-cde6-e2e5613a4a4d"
      },
      "source": [
        "# Traduzindo as categorias\n",
        "traducao_dict = {\n",
        "    'belleza-y-cuidado-personal': 'beleza e cuidado pessoal',\n",
        "    'comidas-preparadas': 'refeições preparadas',\n",
        "    'congelados': 'congelados',\n",
        "    'frutas': 'frutas',\n",
        "    'instantaneos-y-sopas': 'instantâneos e sopas',\n",
        "    'lacteos': 'laticínios',\n",
        "    'verduras': 'verduras'\n",
        "}\n",
        "\n",
        "df['Categoria'] = df['Categoria'].replace(traducao_dict)\n",
        "\n",
        "# Exibição do resultado após a tradução\n",
        "display(df['Categoria'].unique())"
      ],
      "execution_count": 6,
      "outputs": [
        {
          "output_type": "display_data",
          "data": {
            "text/plain": [
              "array(['laticínios', 'beleza e cuidado pessoal', 'congelados', 'frutas',\n",
              "       'refeições preparadas', 'verduras', 'instantâneos e sopas'],\n",
              "      dtype=object)"
            ]
          },
          "metadata": {}
        }
      ]
    },
    {
      "cell_type": "code",
      "source": [
        "media_preco_por_categoria = df.groupby('Categoria')['Preco_Normal'].mean().round(2)\n",
        "display(media_preco_por_categoria)"
      ],
      "metadata": {
        "id": "E7B7FolOzVcJ",
        "colab": {
          "base_uri": "https://localhost:8080/",
          "height": 335
        },
        "outputId": "4e6bfa35-b614-4864-de4c-e36ee0fb1a07"
      },
      "execution_count": 7,
      "outputs": [
        {
          "output_type": "display_data",
          "data": {
            "text/plain": [
              "Categoria\n",
              "beleza e cuidado pessoal    1783.56\n",
              "congelados                  2108.04\n",
              "frutas                      1724.47\n",
              "instantâneos e sopas         765.49\n",
              "laticínios                  2385.22\n",
              "refeições preparadas        3095.04\n",
              "verduras                    1343.30\n",
              "Name: Preco_Normal, dtype: float64"
            ],
            "text/html": [
              "<div>\n",
              "<style scoped>\n",
              "    .dataframe tbody tr th:only-of-type {\n",
              "        vertical-align: middle;\n",
              "    }\n",
              "\n",
              "    .dataframe tbody tr th {\n",
              "        vertical-align: top;\n",
              "    }\n",
              "\n",
              "    .dataframe thead th {\n",
              "        text-align: right;\n",
              "    }\n",
              "</style>\n",
              "<table border=\"1\" class=\"dataframe\">\n",
              "  <thead>\n",
              "    <tr style=\"text-align: right;\">\n",
              "      <th></th>\n",
              "      <th>Preco_Normal</th>\n",
              "    </tr>\n",
              "    <tr>\n",
              "      <th>Categoria</th>\n",
              "      <th></th>\n",
              "    </tr>\n",
              "  </thead>\n",
              "  <tbody>\n",
              "    <tr>\n",
              "      <th>beleza e cuidado pessoal</th>\n",
              "      <td>1783.56</td>\n",
              "    </tr>\n",
              "    <tr>\n",
              "      <th>congelados</th>\n",
              "      <td>2108.04</td>\n",
              "    </tr>\n",
              "    <tr>\n",
              "      <th>frutas</th>\n",
              "      <td>1724.47</td>\n",
              "    </tr>\n",
              "    <tr>\n",
              "      <th>instantâneos e sopas</th>\n",
              "      <td>765.49</td>\n",
              "    </tr>\n",
              "    <tr>\n",
              "      <th>laticínios</th>\n",
              "      <td>2385.22</td>\n",
              "    </tr>\n",
              "    <tr>\n",
              "      <th>refeições preparadas</th>\n",
              "      <td>3095.04</td>\n",
              "    </tr>\n",
              "    <tr>\n",
              "      <th>verduras</th>\n",
              "      <td>1343.30</td>\n",
              "    </tr>\n",
              "  </tbody>\n",
              "</table>\n",
              "</div><br><label><b>dtype:</b> float64</label>"
            ]
          },
          "metadata": {}
        }
      ]
    },
    {
      "cell_type": "code",
      "source": [
        "mediana_preco_por_categoria = df.groupby('Categoria')['Preco_Normal'].median()\n",
        "display(mediana_preco_por_categoria)"
      ],
      "metadata": {
        "id": "Rwf4V3hnzZwh",
        "colab": {
          "base_uri": "https://localhost:8080/",
          "height": 335
        },
        "outputId": "d050b710-8d50-4fcb-e90a-cbb96427f73e"
      },
      "execution_count": 8,
      "outputs": [
        {
          "output_type": "display_data",
          "data": {
            "text/plain": [
              "Categoria\n",
              "beleza e cuidado pessoal    1569.0\n",
              "congelados                  1519.0\n",
              "frutas                      1195.0\n",
              "instantâneos e sopas         439.0\n",
              "laticínios                   989.0\n",
              "refeições preparadas        3290.0\n",
              "verduras                    1180.0\n",
              "Name: Preco_Normal, dtype: float64"
            ],
            "text/html": [
              "<div>\n",
              "<style scoped>\n",
              "    .dataframe tbody tr th:only-of-type {\n",
              "        vertical-align: middle;\n",
              "    }\n",
              "\n",
              "    .dataframe tbody tr th {\n",
              "        vertical-align: top;\n",
              "    }\n",
              "\n",
              "    .dataframe thead th {\n",
              "        text-align: right;\n",
              "    }\n",
              "</style>\n",
              "<table border=\"1\" class=\"dataframe\">\n",
              "  <thead>\n",
              "    <tr style=\"text-align: right;\">\n",
              "      <th></th>\n",
              "      <th>Preco_Normal</th>\n",
              "    </tr>\n",
              "    <tr>\n",
              "      <th>Categoria</th>\n",
              "      <th></th>\n",
              "    </tr>\n",
              "  </thead>\n",
              "  <tbody>\n",
              "    <tr>\n",
              "      <th>beleza e cuidado pessoal</th>\n",
              "      <td>1569.0</td>\n",
              "    </tr>\n",
              "    <tr>\n",
              "      <th>congelados</th>\n",
              "      <td>1519.0</td>\n",
              "    </tr>\n",
              "    <tr>\n",
              "      <th>frutas</th>\n",
              "      <td>1195.0</td>\n",
              "    </tr>\n",
              "    <tr>\n",
              "      <th>instantâneos e sopas</th>\n",
              "      <td>439.0</td>\n",
              "    </tr>\n",
              "    <tr>\n",
              "      <th>laticínios</th>\n",
              "      <td>989.0</td>\n",
              "    </tr>\n",
              "    <tr>\n",
              "      <th>refeições preparadas</th>\n",
              "      <td>3290.0</td>\n",
              "    </tr>\n",
              "    <tr>\n",
              "      <th>verduras</th>\n",
              "      <td>1180.0</td>\n",
              "    </tr>\n",
              "  </tbody>\n",
              "</table>\n",
              "</div><br><label><b>dtype:</b> float64</label>"
            ]
          },
          "metadata": {}
        }
      ]
    },
    {
      "cell_type": "code",
      "metadata": {
        "colab": {
          "base_uri": "https://localhost:8080/"
        },
        "id": "3a85d5d1",
        "outputId": "abccf0f9-ef73-413a-a2f7-16103462cfe3"
      },
      "source": [
        "# Identificando categorias com média acima ou abaixo da mediana\n",
        "categorias_media_acima_mediana = media_preco_por_categoria[media_preco_por_categoria > mediana_preco_por_categoria].index.tolist()\n",
        "categorias_media_abaixo_mediana = media_preco_por_categoria[media_preco_por_categoria < mediana_preco_por_categoria].index.tolist()\n",
        "\n",
        "print(\"Categorias onde a média está acima da mediana:\")\n",
        "print(categorias_media_acima_mediana)\n",
        "\n",
        "print(\"\\nCategorias onde a média está abaixo da mediana:\")\n",
        "print(categorias_media_abaixo_mediana)"
      ],
      "execution_count": 9,
      "outputs": [
        {
          "output_type": "stream",
          "name": "stdout",
          "text": [
            "Categorias onde a média está acima da mediana:\n",
            "['beleza e cuidado pessoal', 'congelados', 'frutas', 'instantâneos e sopas', 'laticínios', 'verduras']\n",
            "\n",
            "Categorias onde a média está abaixo da mediana:\n",
            "['refeições preparadas']\n"
          ]
        }
      ]
    },
    {
      "cell_type": "markdown",
      "source": [
        "Digite aqui as categorias:\n",
        "\n",
        "# Resposta:\n",
        "Categorias onde a **média está acima da mediana**:'beleza e cuidado pessoal', 'congelados', 'frutas', 'instantâneos e sopas', 'laticínios', 'verduras'.\n",
        "\n",
        "Categorias onde a **média está abaixo da mediana**: 'refeições preparadas'.\n",
        "\n"
      ],
      "metadata": {
        "id": "nKBFOh-mzyWX"
      }
    },
    {
      "cell_type": "markdown",
      "source": [
        "# 2 - Traga o desvio padrão por categoria de produto.\n",
        "# Qual o comportamento da média e mediana nas categorias com maior desvio?"
      ],
      "metadata": {
        "id": "jdHZurzDzca0"
      }
    },
    {
      "cell_type": "code",
      "metadata": {
        "colab": {
          "base_uri": "https://localhost:8080/",
          "height": 335
        },
        "id": "4cb3a7bc",
        "outputId": "e19a9457-0f9d-4e11-b3ff-ffaa2c924647"
      },
      "source": [
        "# Calcular o desvio padrão por categoria\n",
        "desvio_padrao_por_categoria = df.groupby('Categoria')['Preco_Normal'].std().round(2)\n",
        "display(desvio_padrao_por_categoria)"
      ],
      "execution_count": 10,
      "outputs": [
        {
          "output_type": "display_data",
          "data": {
            "text/plain": [
              "Categoria\n",
              "beleza e cuidado pessoal    2210.04\n",
              "congelados                  2111.54\n",
              "frutas                      1639.15\n",
              "instantâneos e sopas        1170.23\n",
              "laticínios                  3925.82\n",
              "refeições preparadas        2019.91\n",
              "verduras                    1012.70\n",
              "Name: Preco_Normal, dtype: float64"
            ],
            "text/html": [
              "<div>\n",
              "<style scoped>\n",
              "    .dataframe tbody tr th:only-of-type {\n",
              "        vertical-align: middle;\n",
              "    }\n",
              "\n",
              "    .dataframe tbody tr th {\n",
              "        vertical-align: top;\n",
              "    }\n",
              "\n",
              "    .dataframe thead th {\n",
              "        text-align: right;\n",
              "    }\n",
              "</style>\n",
              "<table border=\"1\" class=\"dataframe\">\n",
              "  <thead>\n",
              "    <tr style=\"text-align: right;\">\n",
              "      <th></th>\n",
              "      <th>Preco_Normal</th>\n",
              "    </tr>\n",
              "    <tr>\n",
              "      <th>Categoria</th>\n",
              "      <th></th>\n",
              "    </tr>\n",
              "  </thead>\n",
              "  <tbody>\n",
              "    <tr>\n",
              "      <th>beleza e cuidado pessoal</th>\n",
              "      <td>2210.04</td>\n",
              "    </tr>\n",
              "    <tr>\n",
              "      <th>congelados</th>\n",
              "      <td>2111.54</td>\n",
              "    </tr>\n",
              "    <tr>\n",
              "      <th>frutas</th>\n",
              "      <td>1639.15</td>\n",
              "    </tr>\n",
              "    <tr>\n",
              "      <th>instantâneos e sopas</th>\n",
              "      <td>1170.23</td>\n",
              "    </tr>\n",
              "    <tr>\n",
              "      <th>laticínios</th>\n",
              "      <td>3925.82</td>\n",
              "    </tr>\n",
              "    <tr>\n",
              "      <th>refeições preparadas</th>\n",
              "      <td>2019.91</td>\n",
              "    </tr>\n",
              "    <tr>\n",
              "      <th>verduras</th>\n",
              "      <td>1012.70</td>\n",
              "    </tr>\n",
              "  </tbody>\n",
              "</table>\n",
              "</div><br><label><b>dtype:</b> float64</label>"
            ]
          },
          "metadata": {}
        }
      ]
    },
    {
      "cell_type": "markdown",
      "source": [
        "Digite nesse campo o comportamento que você identificou.\n",
        "\n",
        "# Resposta:\n",
        "Nas categorias com maior desvio padrão ('laticínios', 'beleza e cuidado pessoal', 'congelados'), a média tende a ser maior que a mediana. Isso sugere que, nessas categorias, os preços mais altos puxam a média para cima, indicando uma possível presença de outliers de preços mais elevados.\n",
        "\n"
      ],
      "metadata": {
        "id": "HzsLO4nOz3yJ"
      }
    },
    {
      "cell_type": "markdown",
      "source": [
        "# 3 - Plot um boxplot da distribuição do Preco_Normal para a categoria que você identificou que tem o maior desvio padrão. Como é a distribuição desses dados segundo o boxplot? Você identifica muitos outliers?"
      ],
      "metadata": {
        "id": "4aW51rCHBr2w"
      }
    },
    {
      "cell_type": "markdown",
      "source": [
        "Dica: Para trazer apenas os dados da categoria que você deseja você pode usar o df.loc[df['Categoria'] == 'CATEGORIA ESCOLHIDA'\n",
        "\n",
        "> Adicionar aspas\n",
        "\n"
      ],
      "metadata": {
        "id": "kwPKkUZnEUSb"
      }
    },
    {
      "cell_type": "code",
      "source": [
        "# Filtrar os dados para a categoria com maior desvio padrão ('laticínios')\n",
        "df_laticinios = df.loc[df['Categoria'] == 'laticínios']\n",
        "\n",
        "# Plotar o boxplot\n",
        "plt.figure(figsize=(10, 6))\n",
        "plt.boxplot(df_laticinios['Preco_Normal'])\n",
        "plt.title('Distribuição do Preco_Normal para a categoria Laticínios')\n",
        "plt.ylabel('Preço Normal')\n",
        "plt.show()"
      ],
      "metadata": {
        "id": "_02thblTCKEF",
        "colab": {
          "base_uri": "https://localhost:8080/",
          "height": 545
        },
        "outputId": "e3478714-3e2e-4114-8194-ba8261a2c631"
      },
      "execution_count": 11,
      "outputs": [
        {
          "output_type": "display_data",
          "data": {
            "text/plain": [
              "<Figure size 1000x600 with 1 Axes>"
            ],
            "image/png": "[encoded data removed]"
          },
          "metadata": {}
        }
      ]
    },
    {
      "cell_type": "markdown",
      "source": [
        "# 4 - Plote um gráfico de barras onde temos a média de descontos por categoria."
      ],
      "metadata": {
        "id": "w5xgQBC_0Hg-"
      }
    },
    {
      "cell_type": "code",
      "source": [
        "# Calcular a média de descontos por categoria\n",
        "media_desconto_por_categoria = df.groupby('Categoria')['Desconto'].mean().round(2)\n",
        "\n",
        "# Plotar o gráfico de barras\n",
        "plt.figure(figsize=(12, 6))\n",
        "media_desconto_por_categoria.plot(kind='bar')\n",
        "plt.title('Média de Descontos por Categoria')\n",
        "plt.xlabel('Categoria')\n",
        "plt.ylabel('Média de Desconto')\n",
        "plt.xticks(rotation=45, ha='right')\n",
        "plt.tight_layout()\n",
        "plt.show()"
      ],
      "metadata": {
        "id": "DBj5zAdI0QfI",
        "colab": {
          "base_uri": "https://localhost:8080/",
          "height": 607
        },
        "outputId": "7b666a95-bc03-4dde-f01c-9ac9fd69f740"
      },
      "execution_count": 15,
      "outputs": [
        {
          "output_type": "display_data",
          "data": {
            "text/plain": [
              "<Figure size 1200x600 with 1 Axes>"
            ],
            "image/png": "[encoded data removed]"
          },
          "metadata": {}
        }
      ]
    },
    {
      "cell_type": "markdown",
      "source": [
        "# 5 - Plote um gráfico de mapa interativo agrupando os dados por categoria, marca e trazendo a média de desconto."
      ],
      "metadata": {
        "id": "vqlx0w7E07uC"
      }
    },
    {
      "cell_type": "code",
      "source": [
        "# Calcular a média de desconto por categoria e marca\n",
        "media_desconto_categoria_marca = df.groupby(['Categoria', 'Marca'])['Desconto'].mean().reset_index()\n",
        "\n",
        "# Preencha todos os valores NaN potenciais em 'Desconto' com 0 para lidar com casos sem descontos\n",
        "media_desconto_categoria_marca['Desconto'] = media_desconto_categoria_marca['Desconto'].fillna(0)\n",
        "\n",
        "# Adicione uma pequena constante para evitar ZeroDivisionError na normalização do mapa de árvore\n",
        "media_desconto_categoria_marca['Desconto'] = media_desconto_categoria_marca['Desconto'] + 1e-9\n",
        "\n",
        "# Criar o treemap interativo\n",
        "fig = px.treemap(\n",
        "    media_desconto_categoria_marca,\n",
        "    path=['Categoria', 'Marca'],  # Define a hierarquia (Categoria -> Marca)\n",
        "    values='Desconto',  # Define o tamanho das caixas pelo valor do desconto\n",
        "    color='Desconto',  # Define a cor das caixas pelo valor do desconto\n",
        "    hover_data={'Desconto': ':.2f'}, # Format the discount in hover to 2 decimal places\n",
        "    title=\"Média de Desconto por Categoria e Marca\"\n",
        ")\n",
        "\n",
        "fig.show()"
      ],
      "metadata": {
        "id": "D-JWM64Q1NzB",
        "colab": {
          "base_uri": "https://localhost:8080/",
          "height": 542
        },
        "outputId": "ff73be55-391c-4fea-acf5-24d372f4c890"
      },
      "execution_count": 19,
      "outputs": [
        {
          "output_type": "display_data",
          "data": {
            "text/html": [
              "<html>\n",
              "<head><meta charset=\"utf-8\" /></head>\n",
              "<body>\n",
              "    <div>            <script src=\"https://cdnjs.cloudflare.com/ajax/libs/mathjax/2.7.5/MathJax.js?config=TeX-AMS-MML_SVG\"></script><script type=\"text/javascript\">if (window.MathJax && window.MathJax.Hub && window.MathJax.Hub.Config) {window.MathJax.Hub.Config({SVG: {font: \"STIX-Web\"}});}</script>                <script type=\"text/javascript\">window.PlotlyConfig = {MathJaxConfig: 'local'};</script>\n",
              "        <script charset=\"utf-8\" src=\"https://cdn.plot.ly/plotly-2.35.2.min.js\"></script>                <div id=\"2bea55e0-bd32-4f9e-b3c9-db413cb35816\" class=\"plotly-graph-div\" style=\"height:525px; width:100%;\"></div>            <script type=\"text/javascript\">                                    window.PLOTLYENV=window.PLOTLYENV || {};                                    if (document.getElementById(\"2bea55e0-bd32-4f9e-b3c9-db413cb35816\")) {                    Plotly.newPlot(                        \"2bea55e0-bd32-4f9e-b3c9-db413cb35816\",                        [{\"branchvalues\":\"total\",\"customdata\":[[1e-9],[1e-9],[1e-9],[1e-9],[1e-9],[123.750000001],[444.6666666676667],[1e-9],[590.000000001],[1e-9],[34.08333333433333],[1e-9],[1e-9],[650.000000001],[1e-9],[1e-9],[1e-9],[429.78571428671427],[1e-9],[1e-9],[1e-9],[1e-9],[1e-9],[357.500000001],[1e-9],[1e-9],[1e-9],[117.0952380962381],[1e-9],[4.471264368816092],[1e-9],[1e-9],[1e-9],[1e-9],[1e-9],[148.34285714385715],[1e-9],[16.318181819181817],[1e-9],[1e-9],[1e-9],[1e-9],[1e-9],[429.86666666766666],[252.250000001],[1e-9],[1e-9],[1e-9],[1e-9],[1e-9],[1e-9],[1e-9],[1e-9],[1e-9],[1e-9],[136.26666666766667],[1e-9],[1e-9],[1e-9],[1e-9],[1e-9],[1e-9],[1e-9],[1e-9],[1e-9],[1e-9],[1e-9],[1e-9],[1e-9],[55.16666666766666],[1e-9],[1e-9],[1e-9],[1e-9],[94.83333333433333],[1e-9],[1e-9],[1e-9],[1e-9],[1e-9],[1e-9],[1e-9],[1e-9],[955.000000001],[1e-9],[657.000000001],[19.500000001],[1e-9],[1e-9],[1e-9],[1e-9],[1e-9],[1e-9],[1.7674418614651164],[1e-9],[869.800000001],[1e-9],[1e-9],[103.45454545554546],[210.000000001],[1e-9],[1e-9],[160.000000001],[1e-9],[1e-9],[1e-9],[797.000000001],[88.55555555655556],[1e-9],[200.000000001],[1e-9],[684.8571428581429],[344.3333333343333],[1e-9],[304.500000001],[1e-9],[1e-9],[1e-9],[1e-9],[1e-9],[660.000000001],[795.000000001],[660.000000001],[795.000000001],[1e-9],[1e-9],[1e-9],[1e-9],[164.250000001],[1e-9],[1e-9],[1e-9],[70.000000001],[1e-9],[1e-9],[1e-9],[149.500000001],[456.15625000099993],[1e-9],[1e-9],[1e-9],[1e-9],[1e-9],[1e-9],[300.000000001],[1e-9],[1e-9],[10.852941177470589],[1e-9],[1e-9],[120.000000001],[1e-9],[1e-9],[261.000000001],[1e-9],[1e-9],[1e-9],[1e-9],[1e-9],[1e-9],[1e-9],[1e-9],[1e-9],[546.000000001],[1e-9],[1e-9],[1e-9],[578.8140065810275],[537.1966498240972],[9.999999999999999e-10],[1e-9],[592.4032384856012],[199.99999999300002],[1e-9]],\"domain\":{\"x\":[0.0,1.0],\"y\":[0.0,1.0]},\"hovertemplate\":\"labels=%{label}\\u003cbr\\u003eDesconto_sum=%{value}\\u003cbr\\u003eparent=%{parent}\\u003cbr\\u003eid=%{id}\\u003cbr\\u003eDesconto=%{color:.2f}\\u003cextra\\u003e\\u003c\\u002fextra\\u003e\",\"ids\":[\"laticínios\\u002f1+1 Soprole\",\"laticínios\\u002fActivia\",\"verduras\\u002fAgrosano\",\"instantâneos e sopas\\u002fAlcafood\",\"congelados\\u002fAlimentos Shen\",\"beleza e cuidado pessoal\\u002fAlways\",\"beleza e cuidado pessoal\\u002fAquafresh\",\"laticínios\\u002fAstra\",\"beleza e cuidado pessoal\\u002fAxe\",\"beleza e cuidado pessoal\\u002fBabyland\",\"beleza e cuidado pessoal\\u002fBallerina\",\"laticínios\\u002fBase Culinar\",\"beleza e cuidado pessoal\\u002fBellekiss\",\"beleza e cuidado pessoal\\u002fBiO\",\"laticínios\\u002fBonella\",\"congelados\\u002fBravissimo\",\"refeições preparadas\\u002fBredenmaster\",\"congelados\\u002fBresler\",\"beleza e cuidado pessoal\\u002fBrooks\",\"laticínios\\u002fCalan\",\"laticínios\\u002fCalo\",\"beleza e cuidado pessoal\\u002fCarefree\",\"instantâneos e sopas\\u002fCarozzi\",\"congelados\\u002fCarte Dor\",\"laticínios\\u002fChamyto\",\"laticínios\\u002fChiquitín\",\"laticínios\\u002fCintazul\",\"beleza e cuidado pessoal\\u002fColgate\",\"laticínios\\u002fCollico\",\"laticínios\\u002fColun\",\"laticínios\\u002fCopacabana\",\"refeições preparadas\\u002fCorbac\",\"beleza e cuidado pessoal\\u002fCotidian\",\"beleza e cuidado pessoal\\u002fCotosan\",\"laticínios\\u002fCrucina\",\"congelados\\u002fCuisine & Co\",\"instantâneos e sopas\\u002fCuisine & Co\",\"laticínios\\u002fCuisine & Co\",\"refeições preparadas\\u002fCuisine & Co\",\"laticínios\\u002fDanone\",\"laticínios\\u002fDeline\",\"beleza e cuidado pessoal\\u002fDento\",\"verduras\\u002fDole\",\"beleza e cuidado pessoal\\u002fDove\",\"beleza e cuidado pessoal\\u002fDove Men\",\"beleza e cuidado pessoal\\u002fDuralón\",\"beleza e cuidado pessoal\\u002fElite\",\"beleza e cuidado pessoal\\u002fElvive\",\"beleza e cuidado pessoal\\u002fFamiland\",\"beleza e cuidado pessoal\\u002fFamily Care\",\"congelados\\u002fFiesta\",\"beleza e cuidado pessoal\\u002fFructis\",\"frutas\\u002fFrutas Y Verduras Propias\",\"verduras\\u002fFrutas Y Verduras Propias\",\"frutas\\u002fFrutas Y Verduras Santa Isabel\",\"congelados\\u002fFrutos Del Maipo\",\"beleza e cuidado pessoal\\u002fGarnier\",\"beleza e cuidado pessoal\\u002fGillette\",\"beleza e cuidado pessoal\\u002fGiselle\",\"instantâneos e sopas\\u002fGourmet\",\"congelados\\u002fGuallarauco\",\"beleza e cuidado pessoal\\u002fHead & Shoulders\",\"beleza e cuidado pessoal\\u002fHerbal\",\"beleza e cuidado pessoal\\u002fHerbal Essences\",\"instantâneos e sopas\\u002fHoffmann\",\"laticínios\\u002fIdeal\",\"beleza e cuidado pessoal\\u002fIlicit\",\"verduras\\u002fJumbo\",\"congelados\\u002fKing\",\"beleza e cuidado pessoal\\u002fKotex\",\"laticínios\\u002fKumey\",\"congelados\\u002fLa Crianza\",\"refeições preparadas\\u002fLa Crianza\",\"beleza e cuidado pessoal\\u002fLady Speed Stick\",\"beleza e cuidado pessoal\\u002fLadysoft\",\"beleza e cuidado pessoal\\u002fLe Sancy\",\"laticínios\\u002fLefersa\",\"laticínios\\u002fLight & Free\",\"beleza e cuidado pessoal\\u002fLinic\",\"beleza e cuidado pessoal\\u002fListerine\",\"laticínios\\u002fLoncoleche\",\"laticínios\\u002fLos Alerces\",\"instantâneos e sopas\\u002fMaggi\",\"congelados\\u002fMagnum\",\"laticínios\\u002fMarco Polo\",\"congelados\\u002fMega\",\"congelados\\u002fMinuto Verde\",\"congelados\\u002fMister Veggie\",\"instantâneos e sopas\\u002fMáxima MP\",\"laticínios\\u002fMáxima MP\",\"beleza e cuidado pessoal\\u002fNaturella\",\"instantâneos e sopas\\u002fNaturezza\",\"laticínios\\u002fNesquik\",\"laticínios\\u002fNestlé\",\"laticínios\\u002fNext\",\"laticínios\\u002fNido\",\"beleza e cuidado pessoal\\u002fNivea\",\"beleza e cuidado pessoal\\u002fNivea For Men\",\"beleza e cuidado pessoal\\u002fNosotras\",\"congelados\\u002fNot Burger\",\"congelados\\u002fNot Chicken\",\"congelados\\u002fNot Ice Cream\",\"laticínios\\u002fNot Milk\",\"laticínios\\u002fOikos\",\"beleza e cuidado pessoal\\u002fOld Spice\",\"laticínios\\u002fOmega 3\",\"beleza e cuidado pessoal\\u002fOral Fresh\",\"beleza e cuidado pessoal\\u002fOral-B\",\"congelados\\u002fPF\",\"refeições preparadas\\u002fPF\",\"laticínios\\u002fPamperita\",\"beleza e cuidado pessoal\\u002fPantene\",\"beleza e cuidado pessoal\\u002fPepsodent\",\"beleza e cuidado pessoal\\u002fPlenitud\",\"beleza e cuidado pessoal\\u002fProtex\",\"laticínios\\u002fQualy\",\"laticínios\\u002fQuillayes\",\"refeições preparadas\\u002fRana\",\"congelados\\u002fReceta Del Abuelo\",\"laticínios\\u002fRegimel\",\"beleza e cuidado pessoal\\u002fRexona\",\"beleza e cuidado pessoal\\u002fRexona Clinical\",\"beleza e cuidado pessoal\\u002fRexona Men\",\"beleza e cuidado pessoal\\u002fRexona Men Clinical\",\"congelados\\u002fRikü\",\"congelados\\u002fRock\",\"congelados\\u002fSadia\",\"refeições preparadas\\u002fSadia\",\"congelados\\u002fSahne Nuss\",\"laticínios\\u002fSahne Nuss\",\"congelados\\u002fSan Francisco De Loncomilla\",\"laticínios\\u002fSan Ignacio\",\"congelados\\u002fSan Jorge\",\"instantâneos e sopas\\u002fSanta Isabel\",\"laticínios\\u002fSanta Isabel\",\"refeições preparadas\\u002fSanta Isabel\",\"laticínios\\u002fSanta Marta\",\"congelados\\u002fSavory\",\"beleza e cuidado pessoal\\u002fSchick\",\"beleza e cuidado pessoal\\u002fSedal\",\"beleza e cuidado pessoal\\u002fSensodyne\",\"laticínios\\u002fShake A Shake Lonco Leche\",\"laticínios\\u002fSignore Mario\",\"beleza e cuidado pessoal\\u002fSimond'S\",\"beleza e cuidado pessoal\\u002fSimonds\",\"frutas\\u002fSofruco\",\"refeições preparadas\\u002fSolo Italia\",\"laticínios\\u002fSoprole\",\"laticínios\\u002fSoprole Activ\",\"beleza e cuidado pessoal\\u002fSpeed Stick\",\"congelados\\u002fSuper Beef\",\"congelados\\u002fSuper Cerdo\",\"congelados\\u002fSuper Pollo\",\"laticínios\\u002fSureña\",\"laticínios\\u002fSurlat\",\"laticínios\\u002fSvelty\",\"beleza e cuidado pessoal\\u002fTena\",\"congelados\\u002fTivoni\",\"instantâneos e sopas\\u002fTraverso\",\"beleza e cuidado pessoal\\u002fTrianon\",\"congelados\\u002fTurkey Hill\",\"beleza e cuidado pessoal\\u002fTío Nacho\",\"beleza e cuidado pessoal\\u002fVanart\",\"congelados\\u002fViennetta Bresler\",\"laticínios\\u002fYogu - Yogu\",\"laticínios\\u002fZerolacto\",\"congelados\\u002fZole\",\"beleza e cuidado pessoal\",\"congelados\",\"frutas\",\"instantâneos e sopas\",\"laticínios\",\"refeições preparadas\",\"verduras\"],\"labels\":[\"1+1 Soprole\",\"Activia\",\"Agrosano\",\"Alcafood\",\"Alimentos Shen\",\"Always\",\"Aquafresh\",\"Astra\",\"Axe\",\"Babyland\",\"Ballerina\",\"Base Culinar\",\"Bellekiss\",\"BiO\",\"Bonella\",\"Bravissimo\",\"Bredenmaster\",\"Bresler\",\"Brooks\",\"Calan\",\"Calo\",\"Carefree\",\"Carozzi\",\"Carte Dor\",\"Chamyto\",\"Chiquitín\",\"Cintazul\",\"Colgate\",\"Collico\",\"Colun\",\"Copacabana\",\"Corbac\",\"Cotidian\",\"Cotosan\",\"Crucina\",\"Cuisine & Co\",\"Cuisine & Co\",\"Cuisine & Co\",\"Cuisine & Co\",\"Danone\",\"Deline\",\"Dento\",\"Dole\",\"Dove\",\"Dove Men\",\"Duralón\",\"Elite\",\"Elvive\",\"Familand\",\"Family Care\",\"Fiesta\",\"Fructis\",\"Frutas Y Verduras Propias\",\"Frutas Y Verduras Propias\",\"Frutas Y Verduras Santa Isabel\",\"Frutos Del Maipo\",\"Garnier\",\"Gillette\",\"Giselle\",\"Gourmet\",\"Guallarauco\",\"Head & Shoulders\",\"Herbal\",\"Herbal Essences\",\"Hoffmann\",\"Ideal\",\"Ilicit\",\"Jumbo\",\"King\",\"Kotex\",\"Kumey\",\"La Crianza\",\"La Crianza\",\"Lady Speed Stick\",\"Ladysoft\",\"Le Sancy\",\"Lefersa\",\"Light & Free\",\"Linic\",\"Listerine\",\"Loncoleche\",\"Los Alerces\",\"Maggi\",\"Magnum\",\"Marco Polo\",\"Mega\",\"Minuto Verde\",\"Mister Veggie\",\"Máxima MP\",\"Máxima MP\",\"Naturella\",\"Naturezza\",\"Nesquik\",\"Nestlé\",\"Next\",\"Nido\",\"Nivea\",\"Nivea For Men\",\"Nosotras\",\"Not Burger\",\"Not Chicken\",\"Not Ice Cream\",\"Not Milk\",\"Oikos\",\"Old Spice\",\"Omega 3\",\"Oral Fresh\",\"Oral-B\",\"PF\",\"PF\",\"Pamperita\",\"Pantene\",\"Pepsodent\",\"Plenitud\",\"Protex\",\"Qualy\",\"Quillayes\",\"Rana\",\"Receta Del Abuelo\",\"Regimel\",\"Rexona\",\"Rexona Clinical\",\"Rexona Men\",\"Rexona Men Clinical\",\"Rikü\",\"Rock\",\"Sadia\",\"Sadia\",\"Sahne Nuss\",\"Sahne Nuss\",\"San Francisco De Loncomilla\",\"San Ignacio\",\"San Jorge\",\"Santa Isabel\",\"Santa Isabel\",\"Santa Isabel\",\"Santa Marta\",\"Savory\",\"Schick\",\"Sedal\",\"Sensodyne\",\"Shake A Shake Lonco Leche\",\"Signore Mario\",\"Simond'S\",\"Simonds\",\"Sofruco\",\"Solo Italia\",\"Soprole\",\"Soprole Activ\",\"Speed Stick\",\"Super Beef\",\"Super Cerdo\",\"Super Pollo\",\"Sureña\",\"Surlat\",\"Svelty\",\"Tena\",\"Tivoni\",\"Traverso\",\"Trianon\",\"Turkey Hill\",\"Tío Nacho\",\"Vanart\",\"Viennetta Bresler\",\"Yogu - Yogu\",\"Zerolacto\",\"Zole\",\"beleza e cuidado pessoal\",\"congelados\",\"frutas\",\"instantâneos e sopas\",\"laticínios\",\"refeições preparadas\",\"verduras\"],\"marker\":{\"coloraxis\":\"coloraxis\",\"colors\":[1e-9,1e-9,1e-9,1e-9,1e-9,123.750000001,444.6666666676667,1e-9,590.000000001,1e-9,34.08333333433333,1e-9,1e-9,650.000000001,1e-9,1e-9,1e-9,429.78571428671427,1e-9,1e-9,1e-9,1e-9,1e-9,357.500000001,1e-9,1e-9,1e-9,117.0952380962381,1e-9,4.471264368816092,1e-9,1e-9,1e-9,1e-9,1e-9,148.34285714385715,1e-9,16.318181819181817,1e-9,1e-9,1e-9,1e-9,1e-9,429.86666666766666,252.250000001,1e-9,1e-9,1e-9,1e-9,1e-9,1e-9,1e-9,1e-9,1e-9,1e-9,136.26666666766667,1e-9,1e-9,1e-9,1e-9,1e-9,1e-9,1e-9,1e-9,1e-9,1e-9,1e-9,1e-9,1e-9,55.16666666766666,1e-9,1e-9,1e-9,1e-9,94.83333333433333,1e-9,1e-9,1e-9,1e-9,1e-9,1e-9,1e-9,1e-9,955.000000001,1e-9,657.000000001,19.500000001,1e-9,1e-9,1e-9,1e-9,1e-9,1e-9,1.7674418614651164,1e-9,869.800000001,1e-9,1e-9,103.45454545554546,210.000000001,1e-9,1e-9,160.000000001,1e-9,1e-9,1e-9,797.000000001,88.55555555655556,1e-9,200.000000001,1e-9,684.8571428581429,344.3333333343333,1e-9,304.500000001,1e-9,1e-9,1e-9,1e-9,1e-9,660.000000001,795.000000001,660.000000001,795.000000001,1e-9,1e-9,1e-9,1e-9,164.250000001,1e-9,1e-9,1e-9,70.000000001,1e-9,1e-9,1e-9,149.500000001,456.15625000099993,1e-9,1e-9,1e-9,1e-9,1e-9,1e-9,300.000000001,1e-9,1e-9,10.852941177470589,1e-9,1e-9,120.000000001,1e-9,1e-9,261.000000001,1e-9,1e-9,1e-9,1e-9,1e-9,1e-9,1e-9,1e-9,1e-9,546.000000001,1e-9,1e-9,1e-9,578.8140065810275,537.1966498240972,9.999999999999999e-10,1e-9,592.4032384856012,199.99999999300002,1e-9]},\"name\":\"\",\"parents\":[\"laticínios\",\"laticínios\",\"verduras\",\"instantâneos e sopas\",\"congelados\",\"beleza e cuidado pessoal\",\"beleza e cuidado pessoal\",\"laticínios\",\"beleza e cuidado pessoal\",\"beleza e cuidado pessoal\",\"beleza e cuidado pessoal\",\"laticínios\",\"beleza e cuidado pessoal\",\"beleza e cuidado pessoal\",\"laticínios\",\"congelados\",\"refeições preparadas\",\"congelados\",\"beleza e cuidado pessoal\",\"laticínios\",\"laticínios\",\"beleza e cuidado pessoal\",\"instantâneos e sopas\",\"congelados\",\"laticínios\",\"laticínios\",\"laticínios\",\"beleza e cuidado pessoal\",\"laticínios\",\"laticínios\",\"laticínios\",\"refeições preparadas\",\"beleza e cuidado pessoal\",\"beleza e cuidado pessoal\",\"laticínios\",\"congelados\",\"instantâneos e sopas\",\"laticínios\",\"refeições preparadas\",\"laticínios\",\"laticínios\",\"beleza e cuidado pessoal\",\"verduras\",\"beleza e cuidado pessoal\",\"beleza e cuidado pessoal\",\"beleza e cuidado pessoal\",\"beleza e cuidado pessoal\",\"beleza e cuidado pessoal\",\"beleza e cuidado pessoal\",\"beleza e cuidado pessoal\",\"congelados\",\"beleza e cuidado pessoal\",\"frutas\",\"verduras\",\"frutas\",\"congelados\",\"beleza e cuidado pessoal\",\"beleza e cuidado pessoal\",\"beleza e cuidado pessoal\",\"instantâneos e sopas\",\"congelados\",\"beleza e cuidado pessoal\",\"beleza e cuidado pessoal\",\"beleza e cuidado pessoal\",\"instantâneos e sopas\",\"laticínios\",\"beleza e cuidado pessoal\",\"verduras\",\"congelados\",\"beleza e cuidado pessoal\",\"laticínios\",\"congelados\",\"refeições preparadas\",\"beleza e cuidado pessoal\",\"beleza e cuidado pessoal\",\"beleza e cuidado pessoal\",\"laticínios\",\"laticínios\",\"beleza e cuidado pessoal\",\"beleza e cuidado pessoal\",\"laticínios\",\"laticínios\",\"instantâneos e sopas\",\"congelados\",\"laticínios\",\"congelados\",\"congelados\",\"congelados\",\"instantâneos e sopas\",\"laticínios\",\"beleza e cuidado pessoal\",\"instantâneos e sopas\",\"laticínios\",\"laticínios\",\"laticínios\",\"laticínios\",\"beleza e cuidado pessoal\",\"beleza e cuidado pessoal\",\"beleza e cuidado pessoal\",\"congelados\",\"congelados\",\"congelados\",\"laticínios\",\"laticínios\",\"beleza e cuidado pessoal\",\"laticínios\",\"beleza e cuidado pessoal\",\"beleza e cuidado pessoal\",\"congelados\",\"refeições preparadas\",\"laticínios\",\"beleza e cuidado pessoal\",\"beleza e cuidado pessoal\",\"beleza e cuidado pessoal\",\"beleza e cuidado pessoal\",\"laticínios\",\"laticínios\",\"refeições preparadas\",\"congelados\",\"laticínios\",\"beleza e cuidado pessoal\",\"beleza e cuidado pessoal\",\"beleza e cuidado pessoal\",\"beleza e cuidado pessoal\",\"congelados\",\"congelados\",\"congelados\",\"refeições preparadas\",\"congelados\",\"laticínios\",\"congelados\",\"laticínios\",\"congelados\",\"instantâneos e sopas\",\"laticínios\",\"refeições preparadas\",\"laticínios\",\"congelados\",\"beleza e cuidado pessoal\",\"beleza e cuidado pessoal\",\"beleza e cuidado pessoal\",\"laticínios\",\"laticínios\",\"beleza e cuidado pessoal\",\"beleza e cuidado pessoal\",\"frutas\",\"refeições preparadas\",\"laticínios\",\"laticínios\",\"beleza e cuidado pessoal\",\"congelados\",\"congelados\",\"congelados\",\"laticínios\",\"laticínios\",\"laticínios\",\"beleza e cuidado pessoal\",\"congelados\",\"instantâneos e sopas\",\"beleza e cuidado pessoal\",\"congelados\",\"beleza e cuidado pessoal\",\"beleza e cuidado pessoal\",\"congelados\",\"laticínios\",\"laticínios\",\"congelados\",\"\",\"\",\"\",\"\",\"\",\"\",\"\"],\"values\":[1e-9,1e-9,1e-9,1e-9,1e-9,123.750000001,444.6666666676667,1e-9,590.000000001,1e-9,34.08333333433333,1e-9,1e-9,650.000000001,1e-9,1e-9,1e-9,429.78571428671427,1e-9,1e-9,1e-9,1e-9,1e-9,357.500000001,1e-9,1e-9,1e-9,117.0952380962381,1e-9,4.471264368816092,1e-9,1e-9,1e-9,1e-9,1e-9,148.34285714385715,1e-9,16.318181819181817,1e-9,1e-9,1e-9,1e-9,1e-9,429.86666666766666,252.250000001,1e-9,1e-9,1e-9,1e-9,1e-9,1e-9,1e-9,1e-9,1e-9,1e-9,136.26666666766667,1e-9,1e-9,1e-9,1e-9,1e-9,1e-9,1e-9,1e-9,1e-9,1e-9,1e-9,1e-9,1e-9,55.16666666766666,1e-9,1e-9,1e-9,1e-9,94.83333333433333,1e-9,1e-9,1e-9,1e-9,1e-9,1e-9,1e-9,1e-9,955.000000001,1e-9,657.000000001,19.500000001,1e-9,1e-9,1e-9,1e-9,1e-9,1e-9,1.7674418614651164,1e-9,869.800000001,1e-9,1e-9,103.45454545554546,210.000000001,1e-9,1e-9,160.000000001,1e-9,1e-9,1e-9,797.000000001,88.55555555655556,1e-9,200.000000001,1e-9,684.8571428581429,344.3333333343333,1e-9,304.500000001,1e-9,1e-9,1e-9,1e-9,1e-9,660.000000001,795.000000001,660.000000001,795.000000001,1e-9,1e-9,1e-9,1e-9,164.250000001,1e-9,1e-9,1e-9,70.000000001,1e-9,1e-9,1e-9,149.500000001,456.156250001,1e-9,1e-9,1e-9,1e-9,1e-9,1e-9,300.000000001,1e-9,1e-9,10.852941177470589,1e-9,1e-9,120.000000001,1e-9,1e-9,261.000000001,1e-9,1e-9,1e-9,1e-9,1e-9,1e-9,1e-9,1e-9,1e-9,546.000000001,1e-9,1e-9,1e-9,8324.412482021482,4269.801488128238,3.0000000000000004e-9,1e-8,1473.7098292719336,200.00000000899996,4e-9],\"type\":\"treemap\"}],                        {\"template\":{\"data\":{\"histogram2dcontour\":[{\"type\":\"histogram2dcontour\",\"colorbar\":{\"outlinewidth\":0,\"ticks\":\"\"},\"colorscale\":[[0.0,\"#0d0887\"],[0.1111111111111111,\"#46039f\"],[0.2222222222222222,\"#7201a8\"],[0.3333333333333333,\"#9c179e\"],[0.4444444444444444,\"#bd3786\"],[0.5555555555555556,\"#d8576b\"],[0.6666666666666666,\"#ed7953\"],[0.7777777777777778,\"#fb9f3a\"],[0.8888888888888888,\"#fdca26\"],[1.0,\"#f0f921\"]]}],\"choropleth\":[{\"type\":\"choropleth\",\"colorbar\":{\"outlinewidth\":0,\"ticks\":\"\"}}],\"histogram2d\":[{\"type\":\"histogram2d\",\"colorbar\":{\"outlinewidth\":0,\"ticks\":\"\"},\"colorscale\":[[0.0,\"#0d0887\"],[0.1111111111111111,\"#46039f\"],[0.2222222222222222,\"#7201a8\"],[0.3333333333333333,\"#9c179e\"],[0.4444444444444444,\"#bd3786\"],[0.5555555555555556,\"#d8576b\"],[0.6666666666666666,\"#ed7953\"],[0.7777777777777778,\"#fb9f3a\"],[0.8888888888888888,\"#fdca26\"],[1.0,\"#f0f921\"]]}],\"heatmap\":[{\"type\":\"heatmap\",\"colorbar\":{\"outlinewidth\":0,\"ticks\":\"\"},\"colorscale\":[[0.0,\"#0d0887\"],[0.1111111111111111,\"#46039f\"],[0.2222222222222222,\"#7201a8\"],[0.3333333333333333,\"#9c179e\"],[0.4444444444444444,\"#bd3786\"],[0.5555555555555556,\"#d8576b\"],[0.6666666666666666,\"#ed7953\"],[0.7777777777777778,\"#fb9f3a\"],[0.8888888888888888,\"#fdca26\"],[1.0,\"#f0f921\"]]}],\"heatmapgl\":[{\"type\":\"heatmapgl\",\"colorbar\":{\"outlinewidth\":0,\"ticks\":\"\"},\"colorscale\":[[0.0,\"#0d0887\"],[0.1111111111111111,\"#46039f\"],[0.2222222222222222,\"#7201a8\"],[0.3333333333333333,\"#9c179e\"],[0.4444444444444444,\"#bd3786\"],[0.5555555555555556,\"#d8576b\"],[0.6666666666666666,\"#ed7953\"],[0.7777777777777778,\"#fb9f3a\"],[0.8888888888888888,\"#fdca26\"],[1.0,\"#f0f921\"]]}],\"contourcarpet\":[{\"type\":\"contourcarpet\",\"colorbar\":{\"outlinewidth\":0,\"ticks\":\"\"}}],\"contour\":[{\"type\":\"contour\",\"colorbar\":{\"outlinewidth\":0,\"ticks\":\"\"},\"colorscale\":[[0.0,\"#0d0887\"],[0.1111111111111111,\"#46039f\"],[0.2222222222222222,\"#7201a8\"],[0.3333333333333333,\"#9c179e\"],[0.4444444444444444,\"#bd3786\"],[0.5555555555555556,\"#d8576b\"],[0.6666666666666666,\"#ed7953\"],[0.7777777777777778,\"#fb9f3a\"],[0.8888888888888888,\"#fdca26\"],[1.0,\"#f0f921\"]]}],\"surface\":[{\"type\":\"surface\",\"colorbar\":{\"outlinewidth\":0,\"ticks\":\"\"},\"colorscale\":[[0.0,\"#0d0887\"],[0.1111111111111111,\"#46039f\"],[0.2222222222222222,\"#7201a8\"],[0.3333333333333333,\"#9c179e\"],[0.4444444444444444,\"#bd3786\"],[0.5555555555555556,\"#d8576b\"],[0.6666666666666666,\"#ed7953\"],[0.7777777777777778,\"#fb9f3a\"],[0.8888888888888888,\"#fdca26\"],[1.0,\"#f0f921\"]]}],\"mesh3d\":[{\"type\":\"mesh3d\",\"colorbar\":{\"outlinewidth\":0,\"ticks\":\"\"}}],\"scatter\":[{\"fillpattern\":{\"fillmode\":\"overlay\",\"size\":10,\"solidity\":0.2},\"type\":\"scatter\"}],\"parcoords\":[{\"type\":\"parcoords\",\"line\":{\"colorbar\":{\"outlinewidth\":0,\"ticks\":\"\"}}}],\"scatterpolargl\":[{\"type\":\"scatterpolargl\",\"marker\":{\"colorbar\":{\"outlinewidth\":0,\"ticks\":\"\"}}}],\"bar\":[{\"error_x\":{\"color\":\"#2a3f5f\"},\"error_y\":{\"color\":\"#2a3f5f\"},\"marker\":{\"line\":{\"color\":\"#E5ECF6\",\"width\":0.5},\"pattern\":{\"fillmode\":\"overlay\",\"size\":10,\"solidity\":0.2}},\"type\":\"bar\"}],\"scattergeo\":[{\"type\":\"scattergeo\",\"marker\":{\"colorbar\":{\"outlinewidth\":0,\"ticks\":\"\"}}}],\"scatterpolar\":[{\"type\":\"scatterpolar\",\"marker\":{\"colorbar\":{\"outlinewidth\":0,\"ticks\":\"\"}}}],\"histogram\":[{\"marker\":{\"pattern\":{\"fillmode\":\"overlay\",\"size\":10,\"solidity\":0.2}},\"type\":\"histogram\"}],\"scattergl\":[{\"type\":\"scattergl\",\"marker\":{\"colorbar\":{\"outlinewidth\":0,\"ticks\":\"\"}}}],\"scatter3d\":[{\"type\":\"scatter3d\",\"line\":{\"colorbar\":{\"outlinewidth\":0,\"ticks\":\"\"}},\"marker\":{\"colorbar\":{\"outlinewidth\":0,\"ticks\":\"\"}}}],\"scattermapbox\":[{\"type\":\"scattermapbox\",\"marker\":{\"colorbar\":{\"outlinewidth\":0,\"ticks\":\"\"}}}],\"scatterternary\":[{\"type\":\"scatterternary\",\"marker\":{\"colorbar\":{\"outlinewidth\":0,\"ticks\":\"\"}}}],\"scattercarpet\":[{\"type\":\"scattercarpet\",\"marker\":{\"colorbar\":{\"outlinewidth\":0,\"ticks\":\"\"}}}],\"carpet\":[{\"aaxis\":{\"endlinecolor\":\"#2a3f5f\",\"gridcolor\":\"white\",\"linecolor\":\"white\",\"minorgridcolor\":\"white\",\"startlinecolor\":\"#2a3f5f\"},\"baxis\":{\"endlinecolor\":\"#2a3f5f\",\"gridcolor\":\"white\",\"linecolor\":\"white\",\"minorgridcolor\":\"white\",\"startlinecolor\":\"#2a3f5f\"},\"type\":\"carpet\"}],\"table\":[{\"cells\":{\"fill\":{\"color\":\"#EBF0F8\"},\"line\":{\"color\":\"white\"}},\"header\":{\"fill\":{\"color\":\"#C8D4E3\"},\"line\":{\"color\":\"white\"}},\"type\":\"table\"}],\"barpolar\":[{\"marker\":{\"line\":{\"color\":\"#E5ECF6\",\"width\":0.5},\"pattern\":{\"fillmode\":\"overlay\",\"size\":10,\"solidity\":0.2}},\"type\":\"barpolar\"}],\"pie\":[{\"automargin\":true,\"type\":\"pie\"}]},\"layout\":{\"autotypenumbers\":\"strict\",\"colorway\":[\"#636efa\",\"#EF553B\",\"#00cc96\",\"#ab63fa\",\"#FFA15A\",\"#19d3f3\",\"#FF6692\",\"#B6E880\",\"#FF97FF\",\"#FECB52\"],\"font\":{\"color\":\"#2a3f5f\"},\"hovermode\":\"closest\",\"hoverlabel\":{\"align\":\"left\"},\"paper_bgcolor\":\"white\",\"plot_bgcolor\":\"#E5ECF6\",\"polar\":{\"bgcolor\":\"#E5ECF6\",\"angularaxis\":{\"gridcolor\":\"white\",\"linecolor\":\"white\",\"ticks\":\"\"},\"radialaxis\":{\"gridcolor\":\"white\",\"linecolor\":\"white\",\"ticks\":\"\"}},\"ternary\":{\"bgcolor\":\"#E5ECF6\",\"aaxis\":{\"gridcolor\":\"white\",\"linecolor\":\"white\",\"ticks\":\"\"},\"baxis\":{\"gridcolor\":\"white\",\"linecolor\":\"white\",\"ticks\":\"\"},\"caxis\":{\"gridcolor\":\"white\",\"linecolor\":\"white\",\"ticks\":\"\"}},\"coloraxis\":{\"colorbar\":{\"outlinewidth\":0,\"ticks\":\"\"}},\"colorscale\":{\"sequential\":[[0.0,\"#0d0887\"],[0.1111111111111111,\"#46039f\"],[0.2222222222222222,\"#7201a8\"],[0.3333333333333333,\"#9c179e\"],[0.4444444444444444,\"#bd3786\"],[0.5555555555555556,\"#d8576b\"],[0.6666666666666666,\"#ed7953\"],[0.7777777777777778,\"#fb9f3a\"],[0.8888888888888888,\"#fdca26\"],[1.0,\"#f0f921\"]],\"sequentialminus\":[[0.0,\"#0d0887\"],[0.1111111111111111,\"#46039f\"],[0.2222222222222222,\"#7201a8\"],[0.3333333333333333,\"#9c179e\"],[0.4444444444444444,\"#bd3786\"],[0.5555555555555556,\"#d8576b\"],[0.6666666666666666,\"#ed7953\"],[0.7777777777777778,\"#fb9f3a\"],[0.8888888888888888,\"#fdca26\"],[1.0,\"#f0f921\"]],\"diverging\":[[0,\"#8e0152\"],[0.1,\"#c51b7d\"],[0.2,\"#de77ae\"],[0.3,\"#f1b6da\"],[0.4,\"#fde0ef\"],[0.5,\"#f7f7f7\"],[0.6,\"#e6f5d0\"],[0.7,\"#b8e186\"],[0.8,\"#7fbc41\"],[0.9,\"#4d9221\"],[1,\"#276419\"]]},\"xaxis\":{\"gridcolor\":\"white\",\"linecolor\":\"white\",\"ticks\":\"\",\"title\":{\"standoff\":15},\"zerolinecolor\":\"white\",\"automargin\":true,\"zerolinewidth\":2},\"yaxis\":{\"gridcolor\":\"white\",\"linecolor\":\"white\",\"ticks\":\"\",\"title\":{\"standoff\":15},\"zerolinecolor\":\"white\",\"automargin\":true,\"zerolinewidth\":2},\"scene\":{\"xaxis\":{\"backgroundcolor\":\"#E5ECF6\",\"gridcolor\":\"white\",\"linecolor\":\"white\",\"showbackground\":true,\"ticks\":\"\",\"zerolinecolor\":\"white\",\"gridwidth\":2},\"yaxis\":{\"backgroundcolor\":\"#E5ECF6\",\"gridcolor\":\"white\",\"linecolor\":\"white\",\"showbackground\":true,\"ticks\":\"\",\"zerolinecolor\":\"white\",\"gridwidth\":2},\"zaxis\":{\"backgroundcolor\":\"#E5ECF6\",\"gridcolor\":\"white\",\"linecolor\":\"white\",\"showbackground\":true,\"ticks\":\"\",\"zerolinecolor\":\"white\",\"gridwidth\":2}},\"shapedefaults\":{\"line\":{\"color\":\"#2a3f5f\"}},\"annotationdefaults\":{\"arrowcolor\":\"#2a3f5f\",\"arrowhead\":0,\"arrowwidth\":1},\"geo\":{\"bgcolor\":\"white\",\"landcolor\":\"#E5ECF6\",\"subunitcolor\":\"white\",\"showland\":true,\"showlakes\":true,\"lakecolor\":\"white\"},\"title\":{\"x\":0.05},\"mapbox\":{\"style\":\"light\"}}},\"coloraxis\":{\"colorbar\":{\"title\":{\"text\":\"Desconto\"}},\"colorscale\":[[0.0,\"#0d0887\"],[0.1111111111111111,\"#46039f\"],[0.2222222222222222,\"#7201a8\"],[0.3333333333333333,\"#9c179e\"],[0.4444444444444444,\"#bd3786\"],[0.5555555555555556,\"#d8576b\"],[0.6666666666666666,\"#ed7953\"],[0.7777777777777778,\"#fb9f3a\"],[0.8888888888888888,\"#fdca26\"],[1.0,\"#f0f921\"]]},\"legend\":{\"tracegroupgap\":0},\"title\":{\"text\":\"Média de Desconto por Categoria e Marca\"}},                        {\"responsive\": true}                    ).then(function(){\n",
              "                            \n",
              "var gd = document.getElementById('2bea55e0-bd32-4f9e-b3c9-db413cb35816');\n",
              "var x = new MutationObserver(function (mutations, observer) {{\n",
              "        var display = window.getComputedStyle(gd).display;\n",
              "        if (!display || display === 'none') {{\n",
              "            console.log([gd, 'removed!']);\n",
              "            Plotly.purge(gd);\n",
              "            observer.disconnect();\n",
              "        }}\n",
              "}});\n",
              "\n",
              "// Listen for the removal of the full notebook cells\n",
              "var notebookContainer = gd.closest('#notebook-container');\n",
              "if (notebookContainer) {{\n",
              "    x.observe(notebookContainer, {childList: true});\n",
              "}}\n",
              "\n",
              "// Listen for the clearing of the current output cell\n",
              "var outputEl = gd.closest('.output');\n",
              "if (outputEl) {{\n",
              "    x.observe(outputEl, {childList: true});\n",
              "}}\n",
              "\n",
              "                        })                };                            </script>        </div>\n",
              "</body>\n",
              "</html>"
            ]
          },
          "metadata": {}
        }
      ]
    }
  ]
}
